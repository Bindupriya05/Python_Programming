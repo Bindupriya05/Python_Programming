{
 "cells": [
  {
   "cell_type": "code",
   "execution_count": 1,
   "id": "92b6ef92",
   "metadata": {},
   "outputs": [
    {
     "name": "stdout",
     "output_type": "stream",
     "text": [
      "list :  [2, 6, 1, 3, 8]\n",
      "target  1\n",
      "The number is found at the position :  2\n"
     ]
    }
   ],
   "source": [
    "# Linear Search\n",
    "def linear_search(list, target):\n",
    "    for i in range(len(list)):\n",
    "        if list[i] == target:\n",
    "            return i\n",
    "    return -1\n",
    "\n",
    "\n",
    "lst=[2,6,1,3,8]\n",
    "num=1\n",
    "linear_search_result = linear_search(lst,num)\n",
    "\n",
    "print(\"list : \", lst)\n",
    "print(\"target \",num)\n",
    "print(\"The number is found at the position : \", linear_search_result)\n"
   ]
  },
  {
   "cell_type": "code",
   "execution_count": 2,
   "id": "932df128",
   "metadata": {},
   "outputs": [
    {
     "name": "stdout",
     "output_type": "stream",
     "text": [
      "list :  [12, 64, 21, 30, 82]\n",
      "target  30\n",
      "The number is found at the position :  3\n"
     ]
    }
   ],
   "source": [
    "#binary search\n",
    "\n",
    "def binary_search(list, target):\n",
    "    low = 0\n",
    "    high = len(list) - 1\n",
    "    while low <= high:\n",
    "        mid = (low + high) // 2\n",
    "        if list[mid] == target:\n",
    "            return mid\n",
    "        elif list[mid] < target:\n",
    "            low = mid + 1\n",
    "        else:\n",
    "            high = mid - 1\n",
    "    return -1\n",
    "\n",
    "lst=[12,64,21,30,82]\n",
    "num=30\n",
    "binary_search_result = binary_search(lst,num)\n",
    "\n",
    "print(\"list : \", lst)\n",
    "print(\"target \",num)\n",
    "print(\"The number is found at the position : \", binary_search_result)\n",
    "\n"
   ]
  },
  {
   "cell_type": "code",
   "execution_count": 3,
   "id": "3778a330",
   "metadata": {},
   "outputs": [
    {
     "name": "stdout",
     "output_type": "stream",
     "text": [
      "list :  [0, 5, 30, 64, 82, 120, 261]\n",
      "The sorted list is:  [0, 5, 30, 64, 82, 120, 261]\n"
     ]
    }
   ],
   "source": [
    "# bubble sort\n",
    "\n",
    "def bubble_sort(list):\n",
    "    n = len(list)\n",
    "    for i in range(n):\n",
    "        for j in range(0, n - i - 1):\n",
    "            if list[j] > list[j + 1]:\n",
    "                list[j], list[j + 1] = list[j + 1], list[j]\n",
    "    return list\n",
    "\n",
    "lst=[120,64,261,30,0,5,82]\n",
    "bubble_sort_result = bubble_sort(lst)\n",
    "\n",
    "print(\"list : \", lst)\n",
    "print(\"The sorted list is: \", bubble_sort_result)\n"
   ]
  },
  {
   "cell_type": "code",
   "execution_count": 4,
   "id": "20719e8e",
   "metadata": {},
   "outputs": [
    {
     "name": "stdout",
     "output_type": "stream",
     "text": [
      "list :  [0, 5, 30, 64, 82, 120, 261]\n",
      "The sorted list is:  [0, 5, 30, 64, 82, 120, 261]\n"
     ]
    }
   ],
   "source": [
    "# selection sort\n",
    "def selection_sort(list):\n",
    "    n = len(list)\n",
    "    for i in range(n):\n",
    "        min_idx = i\n",
    "        for j in range(i + 1, n):\n",
    "            if list[j] < list[min_idx]:\n",
    "                min_idx = j\n",
    "        list[i], list[min_idx] = list[min_idx], list[i]\n",
    "    return list\n",
    "\n",
    "lst=[120,64,261,30,0,5,82]\n",
    "selection_sort_result = selection_sort(lst)\n",
    "\n",
    "print(\"list : \", lst)\n",
    "print(\"The sorted list is: \", selection_sort_result)\n",
    "\n"
   ]
  },
  {
   "cell_type": "code",
   "execution_count": 5,
   "id": "c784e230",
   "metadata": {},
   "outputs": [
    {
     "name": "stdout",
     "output_type": "stream",
     "text": [
      "list :  [1, 5, 10, 30, 64, 862, 2691]\n",
      "The sorted list is:  [1, 5, 10, 30, 64, 862, 2691]\n"
     ]
    }
   ],
   "source": [
    "# insertion sort\n",
    "\n",
    "def insertion_sort(list):\n",
    "    n = len(list)\n",
    "    for i in range(1, n):\n",
    "        key = list[i]\n",
    "        j = i - 1\n",
    "        while j >= 0 and key < list[j]:\n",
    "            list[j + 1] = list[j]\n",
    "            j -= 1\n",
    "        list[j + 1] = key\n",
    "    return list\n",
    "\n",
    "lst=[1,64,2691,30,10,5,862]\n",
    "insertion_sort_result = insertion_sort(lst)\n",
    "\n",
    "print(\"list : \", lst)\n",
    "print(\"The sorted list is: \", insertion_sort_result)\n",
    "\n"
   ]
  },
  {
   "cell_type": "code",
   "execution_count": 6,
   "id": "af8c5455",
   "metadata": {},
   "outputs": [
    {
     "name": "stdout",
     "output_type": "stream",
     "text": [
      "list :  [1, 5, 14, 30, 42, 100, 2691]\n",
      "The sorted list is:  [1, 5, 14, 30, 42, 100, 2691]\n"
     ]
    }
   ],
   "source": [
    "# Quick Sort\n",
    "\n",
    "def partition(list, low, high):\n",
    "    pivot = list[high]\n",
    "    i = low - 1\n",
    "    for j in range(low, high):\n",
    "        if list[j] <= pivot:\n",
    "            i = i + 1\n",
    "            list[i], list[j] = list[j], list[i]\n",
    "    list[i + 1], list[high] = list[high], list[i + 1]\n",
    "    return i + 1\n",
    "\n",
    "def quick_sort(list, low, high):\n",
    "    if low < high:\n",
    "        pi = partition(list, low, high)\n",
    "        quick_sort(list, low, pi - 1)\n",
    "        quick_sort(list, pi + 1, high)\n",
    "    return list\n",
    "\n",
    "lst=[1,14,2691,30,100,5,42]\n",
    "insertion_sort_result = insertion_sort(lst)\n",
    "\n",
    "print(\"list : \", lst)\n",
    "print(\"The sorted list is: \", insertion_sort_result)\n",
    "\n"
   ]
  },
  {
   "cell_type": "code",
   "execution_count": 7,
   "id": "a4d55132",
   "metadata": {},
   "outputs": [
    {
     "name": "stdout",
     "output_type": "stream",
     "text": [
      "list :  [1, 5, 14, 30, 42, 100, 2691]\n",
      "The sorted list is:  [1, 5, 14, 30, 42, 100, 2691]\n"
     ]
    }
   ],
   "source": [
    "# Merge Sort\n",
    "def merge(left, right):\n",
    "    result = []\n",
    "    i = j = 0\n",
    "    while i < len(left) and j < len(right):\n",
    "        if left[i] < right[j]:\n",
    "            result.append(left[i])\n",
    "            i += 1\n",
    "        else:\n",
    "            result.append(right[j])\n",
    "            j += 1\n",
    "    result += left[i:]\n",
    "    result += right[j:]\n",
    "    return result\n",
    "\n",
    "def merge_sort(list):\n",
    "    if len(list) <= 1:\n",
    "        return list\n",
    "    mid = len(list) // 2\n",
    "    left = list[:mid]\n",
    "    right = list[mid:]\n",
    "    left = merge_sort(left)\n",
    "    right = merge_sort(right)\n",
    "    return merge(left, right)\n",
    "\n",
    "lst=[1,14,2691,30,100,5,42]\n",
    "insertion_sort_result = insertion_sort(lst)\n",
    "\n",
    "print(\"list : \", lst)\n",
    "print(\"The sorted list is: \", insertion_sort_result)\n"
   ]
  }
 ],
 "metadata": {
  "kernelspec": {
   "display_name": "Python 3 (ipykernel)",
   "language": "python",
   "name": "python3"
  },
  "language_info": {
   "codemirror_mode": {
    "name": "ipython",
    "version": 3
   },
   "file_extension": ".py",
   "mimetype": "text/x-python",
   "name": "python",
   "nbconvert_exporter": "python",
   "pygments_lexer": "ipython3",
   "version": "3.9.13"
  }
 },
 "nbformat": 4,
 "nbformat_minor": 5
}
