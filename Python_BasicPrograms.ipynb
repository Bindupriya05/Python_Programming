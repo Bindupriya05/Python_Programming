{
 "cells": [
  {
   "cell_type": "code",
   "execution_count": 7,
   "id": "f68ee2d4",
   "metadata": {},
   "outputs": [
    {
     "name": "stdout",
     "output_type": "stream",
     "text": [
      "Input string:  hello\n",
      "Reverse of string:  olleh\n"
     ]
    }
   ],
   "source": [
    "#reverse a string \n",
    "#1. using in built function \n",
    "# def reverse_string(string):\n",
    "#     return string[::-1]\n",
    "#2. without using in-built function\n",
    "def reverse_string(string):\n",
    "    reversed_string = ''\n",
    "    for char in string:\n",
    "        reversed_string = char + reversed_string\n",
    "    return reversed_string\n",
    "\n",
    "input_string = \"hello\"\n",
    "reverse_string_result = reverse_string(input_string)\n",
    "\n",
    "print(\"Input string: \", input_string)\n",
    "print(\"Reverse of string: \", reverse_string_result)\n",
    "\n"
   ]
  },
  {
   "cell_type": "code",
   "execution_count": 5,
   "id": "a079bbcd",
   "metadata": {},
   "outputs": [
    {
     "name": "stdout",
     "output_type": "stream",
     "text": [
      "Input string:  hello\n",
      "Length of string:  5\n"
     ]
    }
   ],
   "source": [
    "#find the length of a string in Python\n",
    "#1. Using in-built function\n",
    "# def length_of_string(string):\n",
    "#     return len(string)\n",
    "\n",
    "#2. Without using in-built function\n",
    "def length_of_string(string):\n",
    "    length = 0\n",
    "    for char in string:\n",
    "        length += 1\n",
    "    return length\n",
    "\n",
    "input_string = \"hello\"\n",
    "string_length_result = length_of_string(input_string)\n",
    "\n",
    "print(\"Input string: \", input_string)\n",
    "print(\"Length of string: \", string_length_result)\n"
   ]
  },
  {
   "cell_type": "code",
   "execution_count": 9,
   "id": "70cf473f",
   "metadata": {},
   "outputs": [
    {
     "name": "stdout",
     "output_type": "stream",
     "text": [
      "Input string:  hello welcome to python programming\n",
      "longest word of string:  programming\n"
     ]
    }
   ],
   "source": [
    "#longest word in a string in Python\n",
    "#using inbuilt functions\n",
    "# def longest_word(string):\n",
    "#     words = string.split()\n",
    "#     return max(words, key=len)\n",
    "\n",
    "\n",
    "#without using inbuilt functions\n",
    "def longest_word(string):\n",
    "    words = string.split()\n",
    "    longest_word = ''\n",
    "    for word in words:\n",
    "        if len(word) > len(longest_word):\n",
    "            longest_word = word\n",
    "    return longest_word\n",
    "\n",
    "\n",
    "input_string = \"hello welcome to python programming\"\n",
    "longest_word_result = longest_word(input_string)\n",
    "\n",
    "print(\"Input string: \", input_string)\n",
    "print(\"longest word of string: \", longest_word_result)\n",
    "\n"
   ]
  },
  {
   "cell_type": "code",
   "execution_count": 13,
   "id": "095d5bc9",
   "metadata": {},
   "outputs": [
    {
     "name": "stdout",
     "output_type": "stream",
     "text": [
      "Input List:  [1, 2, 'hello', 2, 3, 'python', 'hello']\n",
      "After removing duplicates:  [1, 2, 'hello', 3, 'python']\n"
     ]
    }
   ],
   "source": [
    "#remove duplicates from a list in Python\n",
    "\n",
    "\n",
    "#using inbuilt functions\n",
    "# def remove_duplicates(list):\n",
    "#     return list(set(list))\n",
    "\n",
    "\n",
    "#without using inbuilt functions\n",
    "def remove_duplicates(list):\n",
    "    unique = []\n",
    "    for item in list:\n",
    "        if item not in unique:\n",
    "            unique.append(item)\n",
    "    return unique\n",
    "\n",
    "input = [1,2,\"hello\",2,3,'python',\"hello\"]\n",
    "remove_duplicates_result = remove_duplicates(input)\n",
    "\n",
    "print(\"Input List: \", input)\n",
    "print(\"After removing duplicates: \", remove_duplicates_result)\n",
    "\n"
   ]
  },
  {
   "cell_type": "code",
   "execution_count": 16,
   "id": "144b4a89",
   "metadata": {},
   "outputs": [
    {
     "name": "stdout",
     "output_type": "stream",
     "text": [
      "Input List:  [1, 2, 3, 'hello'] [2, 3, 'python', 'hello']\n",
      "common elements :  [2, 3, 'hello']\n"
     ]
    }
   ],
   "source": [
    "# find the common elements between two lists in Python\n",
    "#using inbuilt functions\n",
    "# def common_elements(list1, list2):\n",
    "#     return list(set(list1) & set(list2))\n",
    "\n",
    "\n",
    "#without using inbuilt functions\n",
    "def common_elements(list1, list2):\n",
    "    common = []\n",
    "    for item1 in list1:\n",
    "        for item2 in list2:\n",
    "            if item1 == item2:\n",
    "                common.append(item1)\n",
    "    return common\n",
    "\n",
    "l1 = [1,2,3,\"hello\"]\n",
    "l2=[2,3,'python',\"hello\"]\n",
    "common_elements_result = common_elements(l1,l2)\n",
    "\n",
    "print(\"Input List: \", l1,l2)\n",
    "print(\"common elements : \", common_elements_result)\n"
   ]
  },
  {
   "cell_type": "code",
   "execution_count": 23,
   "id": "0935d535",
   "metadata": {},
   "outputs": [
    {
     "name": "stdout",
     "output_type": "stream",
     "text": [
      "Input List:  [1, 2, 8, 9, 6, 2, 3]\n",
      "Sorted list in ascending order:  [1, 2, 2, 3, 6, 8, 9]\n"
     ]
    }
   ],
   "source": [
    "#sort a list of integer numbers in ascending order \n",
    "\n",
    "#using inbuilt function\n",
    "# def sort_list_ascending(list):\n",
    "#     return sorted(list)\n",
    "\n",
    "\n",
    "#without using inbuilt functions\n",
    "def sort_list_ascending(list):\n",
    "    for i in range(len(list)):\n",
    "        for j in range(i+1, int(len(list))):\n",
    "            if list[i] >= list[j]:\n",
    "                list[i], list[j] = list[j], list[i]\n",
    "    return list\n",
    "\n",
    "input = [1,2,8,9,6,2,3]\n",
    "sort_list_ascending_result = sort_list_ascending(input)\n",
    "\n",
    "print(\"Input List: \", input)\n",
    "print(\"Sorted list in ascending order: \", sort_list_ascending_result)\n"
   ]
  },
  {
   "cell_type": "code",
   "execution_count": 25,
   "id": "5c8e2346",
   "metadata": {},
   "outputs": [
    {
     "name": "stdout",
     "output_type": "stream",
     "text": [
      "False\n"
     ]
    }
   ],
   "source": [
    "#check if a number is prime or not \n",
    "def is_prime(num):\n",
    "    if num < 2:\n",
    "        return False\n",
    "    for i in range(2, int(num/2)+1):\n",
    "        if num % i == 0:\n",
    "            return False\n",
    "    return True\n",
    "\n",
    "\n",
    "input = 4\n",
    "print(is_prime(input))"
   ]
  },
  {
   "cell_type": "code",
   "execution_count": 27,
   "id": "9d6e884f",
   "metadata": {},
   "outputs": [
    {
     "name": "stdout",
     "output_type": "stream",
     "text": [
      "11\n"
     ]
    }
   ],
   "source": [
    "#find the sum of digits of a number  \n",
    "#using inbuilt function\n",
    "# def sum_of_digits(num):\n",
    "#     return sum(map(int, str(num)))\n",
    "\n",
    "#without using inbuilt functions\n",
    "def sum_of_digits(num):\n",
    "    sum = 0\n",
    "    while num > 0:\n",
    "        sum += num % 10\n",
    "        num = num // 10\n",
    "    return sum\n",
    "\n",
    "\n",
    "input = 434\n",
    "print(sum_of_digits(input))"
   ]
  },
  {
   "cell_type": "code",
   "execution_count": 33,
   "id": "cc121855",
   "metadata": {},
   "outputs": [
    {
     "name": "stdout",
     "output_type": "stream",
     "text": [
      "Factorial of the number 5 is : 120\n"
     ]
    }
   ],
   "source": [
    "#finding the factorial of a number \n",
    "def factorial(n):\n",
    "    if n == 0:\n",
    "        return 1\n",
    "    else:\n",
    "        return n * factorial(n - 1)\n",
    "\n",
    "input_number = 5\n",
    "factorial_result = factorial(input_number)\n",
    "\n",
    "print(\"Factorial of the number\", input_number,\"is :\", factorial_result)\n"
   ]
  },
  {
   "cell_type": "code",
   "execution_count": 34,
   "id": "5105818d",
   "metadata": {},
   "outputs": [
    {
     "name": "stdout",
     "output_type": "stream",
     "text": [
      "Is palindrome:  True\n"
     ]
    }
   ],
   "source": [
    "#check if a number is a palindrome or not\n",
    "def is_palindrome(n):\n",
    "    num = n\n",
    "    rev = 0\n",
    "    while num > 0:\n",
    "        dig = num % 10\n",
    "        rev = rev * 10 + dig\n",
    "        num = num // 10\n",
    "    return n == rev\n",
    "\n",
    "input_number = 121\n",
    "palindrome_result = is_palindrome(input_number)\n",
    "\n",
    "print(\"Is palindrome: \", palindrome_result)\n"
   ]
  },
  {
   "cell_type": "code",
   "execution_count": 41,
   "id": "3a22f15f",
   "metadata": {},
   "outputs": [
    {
     "name": "stdout",
     "output_type": "stream",
     "text": [
      "level Is palindrome:  True\n"
     ]
    }
   ],
   "source": [
    "# check if a string is a palindrome\n",
    "def is_palindrome(s):\n",
    "    return s == s[::-1]\n",
    "\n",
    "input_string = \"level\"\n",
    "palindrome_result = is_palindrome(input_string)\n",
    "\n",
    "\n",
    "print(input_string,\"Is palindrome: \", palindrome_result)\n"
   ]
  },
  {
   "cell_type": "code",
   "execution_count": 43,
   "id": "6fed29f6",
   "metadata": {},
   "outputs": [
    {
     "name": "stdout",
     "output_type": "stream",
     "text": [
      "Input number:  153\n",
      "Is Armstrong:  True\n",
      "Input number:  123\n",
      "Is Armstrong:  False\n"
     ]
    }
   ],
   "source": [
    "#check if a number is an Armstrong number or not\n",
    "def is_armstrong(n):\n",
    "    num = n\n",
    "    length = 0\n",
    "    while num > 0:\n",
    "        num = num // 10\n",
    "        length += 1\n",
    "    num = n\n",
    "    sum = 0\n",
    "    while num > 0:\n",
    "        dig = num % 10\n",
    "        sum += dig ** length\n",
    "        num = num // 10\n",
    "    return n == sum\n",
    "\n",
    "input_number = 153\n",
    "armstrong_result = is_armstrong(input_number)\n",
    "\n",
    "print(\"Input number: \", input_number)\n",
    "print(\"Is Armstrong: \", armstrong_result)\n",
    "\n",
    "input_number = 123\n",
    "armstrong_result = is_armstrong(input_number)\n",
    "\n",
    "print(\"Input number: \", input_number)\n",
    "print(\"Is Armstrong: \", armstrong_result)"
   ]
  },
  {
   "cell_type": "code",
   "execution_count": null,
   "id": "1650aff6",
   "metadata": {},
   "outputs": [],
   "source": []
  }
 ],
 "metadata": {
  "kernelspec": {
   "display_name": "Python 3 (ipykernel)",
   "language": "python",
   "name": "python3"
  },
  "language_info": {
   "codemirror_mode": {
    "name": "ipython",
    "version": 3
   },
   "file_extension": ".py",
   "mimetype": "text/x-python",
   "name": "python",
   "nbconvert_exporter": "python",
   "pygments_lexer": "ipython3",
   "version": "3.9.13"
  }
 },
 "nbformat": 4,
 "nbformat_minor": 5
}
